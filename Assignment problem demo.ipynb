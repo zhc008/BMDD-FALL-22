{
 "cells": [
  {
   "cell_type": "code",
   "execution_count": 1,
   "metadata": {},
   "outputs": [],
   "source": [
    "import numpy as np\n",
    "from Assignment_problem_auction_algorithm import auction_algorithm, swap, auction, isHappy"
   ]
  },
  {
   "cell_type": "code",
   "execution_count": 2,
   "metadata": {},
   "outputs": [],
   "source": [
    "# determine the doctor number and patient number\n",
    "doctor_number = 12\n",
    "patient_number = 12"
   ]
  },
  {
   "cell_type": "code",
   "execution_count": 3,
   "metadata": {},
   "outputs": [],
   "source": [
    "# The capacity of each doctor and the preference of each patient are randomly generated here\n",
    "capacity = np.zeros([doctor_number,1]);\n",
    "while True:\n",
    "    for j in range(doctor_number):\n",
    "        capacity[j] = np.random.randint(np.rint(patient_number*2/doctor_number + 1))+1\n",
    "    legal_capacity = np.sum(capacity)\n",
    "    if legal_capacity > patient_number:\n",
    "        break\n",
    "rating = np.zeros([patient_number,doctor_number])\n",
    "for i in range(patient_number):\n",
    "    rating[i, :] = np.random.permutation(doctor_number)\n",
    "#Patient_ratings = array2table(rating,'VariableNames',('Doctor'+string(1:doctor_number)));\n",
    "#display(Patient_ratings)"
   ]
  },
  {
   "cell_type": "code",
   "execution_count": 4,
   "metadata": {},
   "outputs": [],
   "source": [
    "output = auction_algorithm(rating, capacity)"
   ]
  },
  {
   "cell_type": "code",
   "execution_count": 5,
   "metadata": {},
   "outputs": [
    {
     "name": "stdout",
     "output_type": "stream",
     "text": [
      "[[11.  6.  4. 10.  7.  3.  5.  1.  8.  9.  0.  2.]\n",
      " [ 5. 10.  2.  4.  6. 11.  8.  9.  3.  1.  7.  0.]\n",
      " [ 1. 11.  3.  6.  0.  2.  4.  8.  7. 10.  5.  9.]\n",
      " [ 0.  3.  5.  1.  9.  7.  6.  8. 10.  4.  2. 11.]\n",
      " [ 3.  7. 10.  0.  9.  8.  2.  6.  5.  4. 11.  1.]\n",
      " [11.  5.  6.  2.  8. 10.  4.  1.  9.  7.  0.  3.]\n",
      " [ 5.  4.  6.  8.  0.  1.  2.  7.  3. 11.  9. 10.]\n",
      " [ 9.  3.  4.  6.  8.  2. 11.  0. 10.  7.  5.  1.]\n",
      " [ 6.  8. 10.  3.  7.  0.  4.  1.  5.  2. 11.  9.]\n",
      " [ 3.  2.  4.  8.  0. 10.  5. 11.  1.  6.  7.  9.]\n",
      " [ 1.  3.  6.  9. 10.  8.  5.  7.  4. 11.  0.  2.]\n",
      " [ 7. 10.  8.  1.  2.  3.  9.  0.  6. 11.  5.  4.]]\n"
     ]
    }
   ],
   "source": [
    "print(rating)"
   ]
  },
  {
   "cell_type": "code",
   "execution_count": 6,
   "metadata": {},
   "outputs": [
    {
     "name": "stdout",
     "output_type": "stream",
     "text": [
      "[[1.]\n",
      " [1.]\n",
      " [1.]\n",
      " [2.]\n",
      " [1.]\n",
      " [1.]\n",
      " [2.]\n",
      " [3.]\n",
      " [1.]\n",
      " [3.]\n",
      " [3.]\n",
      " [3.]]\n"
     ]
    }
   ],
   "source": [
    "print(capacity)"
   ]
  },
  {
   "cell_type": "code",
   "execution_count": 7,
   "metadata": {},
   "outputs": [
    {
     "name": "stdout",
     "output_type": "stream",
     "text": [
      "[[ 3.]\n",
      " [ 5.]\n",
      " [ 1.]\n",
      " [11.]\n",
      " [10.]\n",
      " [ 0.]\n",
      " [ 9.]\n",
      " [ 6.]\n",
      " [10.]\n",
      " [ 7.]\n",
      " [ 9.]\n",
      " [ 9.]]\n"
     ]
    }
   ],
   "source": [
    "# The assigned doctor for each patient\n",
    "print(output)"
   ]
  },
  {
   "cell_type": "code",
   "execution_count": 8,
   "metadata": {},
   "outputs": [
    {
     "name": "stdout",
     "output_type": "stream",
     "text": [
      "10.0\n",
      "11.0\n",
      "11.0\n",
      "11.0\n",
      "11.0\n",
      "11.0\n",
      "11.0\n",
      "11.0\n",
      "11.0\n",
      "11.0\n",
      "11.0\n",
      "11.0\n"
     ]
    }
   ],
   "source": [
    "# The preference score of the assigned plan\n",
    "for i in range(patient_number):\n",
    "    print(rating[i,int(output[i])])"
   ]
  },
  {
   "cell_type": "code",
   "execution_count": null,
   "metadata": {},
   "outputs": [],
   "source": []
  }
 ],
 "metadata": {
  "kernelspec": {
   "display_name": "Python 3",
   "language": "python",
   "name": "python3"
  },
  "language_info": {
   "codemirror_mode": {
    "name": "ipython",
    "version": 3
   },
   "file_extension": ".py",
   "mimetype": "text/x-python",
   "name": "python",
   "nbconvert_exporter": "python",
   "pygments_lexer": "ipython3",
   "version": "3.7.3"
  }
 },
 "nbformat": 4,
 "nbformat_minor": 2
}
